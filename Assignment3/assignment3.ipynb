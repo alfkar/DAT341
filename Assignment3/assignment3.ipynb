{
 "cells": [
  {
   "cell_type": "code",
   "execution_count": 116,
   "metadata": {},
   "outputs": [],
   "source": [
    "import pandas as pd\n",
    "import numpy as np\n",
    "from sklearn.feature_extraction.text import TfidfVectorizer, TfidfTransformer\n",
    "from sklearn.pipeline import Pipeline\n",
    "from sklearn.naive_bayes import BernoulliNB\n",
    "from sklearn.utils.multiclass import type_of_target\n",
    "from sklearn.ensemble import RandomForestClassifier\n"
   ]
  },
  {
   "cell_type": "code",
   "execution_count": 140,
   "metadata": {},
   "outputs": [
    {
     "name": "stdout",
     "output_type": "stream",
     "text": [
      "        0  1  target\n",
      "0       1  1       1\n",
      "1       0  0       0\n",
      "2       0  0       0\n",
      "3       0  0       0\n",
      "4       0  0       0\n",
      "...    .. ..     ...\n",
      "14030   0  0       0\n",
      "14031   0  0       0\n",
      "14032   1  1       1\n",
      "14033  -1  0      -1\n",
      "14034   1  1       1\n",
      "\n",
      "[14035 rows x 3 columns]\n"
     ]
    },
    {
     "data": {
      "text/plain": [
       "0.8822857142857143"
      ]
     },
     "execution_count": 140,
     "metadata": {},
     "output_type": "execute_result"
    }
   ],
   "source": [
    "#Read data\n",
    "test_data = pd.read_csv(\"PA3_test.csv\")\n",
    "train_data = pd.read_csv(\"PA3_train.csv\")\n",
    "train_final_data = pd.read_csv(\"PA3_train_final.csv\")\n",
    "\n",
    "text_clf = Pipeline([\n",
    "            ('tfidfvect', TfidfVectorizer(stop_words='english')),\n",
    "            ('clf', BernoulliNB()) \n",
    "            ])\n",
    "\n",
    "#Extracting only the text from the train_data\n",
    "train_text = train_data.iloc[:, 1]\n",
    "train_target = train_data.iloc[:,0]\n",
    "train_target = train_target.str.split('/',expand=True)\n",
    "\n",
    "train_target['target'] = pd.to_numeric(np.where(train_target[0] == train_target[1], train_target[0], -1))\n",
    "print(train_target)\n",
    "\n",
    "\n",
    "\n",
    "test_text = test_data.iloc[:,1]\n",
    "test_target = test_data.iloc[:,0]\n",
    "#print(f\"Type of target data: {type_of_target(train_target['target'])}\")\n",
    "\n",
    "\n",
    "text_clf.fit(train_text, train_target['target'])\n",
    "text_clf.score(test_text, test_target)\n",
    "\n"
   ]
  },
  {
   "cell_type": "code",
   "execution_count": null,
   "metadata": {},
   "outputs": [],
   "source": []
  }
 ],
 "metadata": {
  "kernelspec": {
   "display_name": "base",
   "language": "python",
   "name": "python3"
  },
  "language_info": {
   "codemirror_mode": {
    "name": "ipython",
    "version": 3
   },
   "file_extension": ".py",
   "mimetype": "text/x-python",
   "name": "python",
   "nbconvert_exporter": "python",
   "pygments_lexer": "ipython3",
   "version": "3.9.13"
  },
  "orig_nbformat": 4
 },
 "nbformat": 4,
 "nbformat_minor": 2
}
