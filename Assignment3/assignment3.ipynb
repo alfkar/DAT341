{
 "cells": [
  {
   "cell_type": "code",
   "execution_count": 186,
   "metadata": {},
   "outputs": [],
   "source": [
    "import pandas as pd\n",
    "import numpy as np\n",
    "from sklearn.feature_extraction.text import TfidfVectorizer, TfidfTransformer\n",
    "from sklearn.pipeline import Pipeline\n",
    "from sklearn.naive_bayes import BernoulliNB\n"
   ]
  },
  {
   "cell_type": "code",
   "execution_count": 187,
   "metadata": {},
   "outputs": [],
   "source": [
    "#Read data\n",
    "test_data = pd.read_csv(\"PA3_test.csv\")\n",
    "train_data = pd.read_csv(\"PA3_train.csv\")\n",
    "train_final_data = pd.read_csv(\"PA3_train_final.csv\")\n",
    "#Extracting only the text from the train data first iteration\n",
    "train_text = train_data.iloc[:, 1]\n",
    "#Formatting the target data such as if the given data differs mark the given data as -1\n",
    "train_target = train_data.iloc[:,0]\n",
    "train_target = train_target.str.split('/',expand=True)\n",
    "train_target_combined = pd.to_numeric(np.where(train_target[0] == train_target[1], train_target[0], -1))\n",
    "#Format for final data\n",
    "train_text_final = train_final_data.iloc[:,1]\n",
    "#Combining target data to single column\n",
    "train_target_final = train_final_data.iloc[:,0]\n",
    "train_target_final = train_target_final.str.split('/',expand=True)\n",
    "train_target_final['combined'] = np.where(train_target_final[0] == train_target_final[1], train_target_final[0], -1)\n",
    "train_target_final['combined'] = pd.to_numeric(np.where(train_target_final['combined'] == train_target_final[2], train_target_final[0], -1))\n",
    "train_target_final['best'] = pd.to_numeric(train_target_final[0])\n",
    "#Seperating the test data to text and target\n",
    "test_text = test_data.iloc[:,1]\n",
    "test_target = test_data.iloc[:,0]\n",
    "\n"
   ]
  },
  {
   "attachments": {},
   "cell_type": "markdown",
   "metadata": {},
   "source": [
    "Training models on the given data"
   ]
  },
  {
   "cell_type": "code",
   "execution_count": 188,
   "metadata": {},
   "outputs": [
    {
     "data": {
      "text/plain": [
       "0.8822857142857143"
      ]
     },
     "execution_count": 188,
     "metadata": {},
     "output_type": "execute_result"
    }
   ],
   "source": [
    "#Pipeline for vectoriz and classifier\n",
    "#Using a combined target data for training\n",
    "text_clf = Pipeline([\n",
    "            ('tfidfvect', TfidfVectorizer(stop_words='english')),\n",
    "            ('clf', BernoulliNB()) \n",
    "            ])\n",
    "text_clf.fit(train_text, train_target_combined)\n",
    "text_clf.score(test_text, test_target)\n"
   ]
  },
  {
   "cell_type": "code",
   "execution_count": 189,
   "metadata": {},
   "outputs": [
    {
     "data": {
      "text/plain": [
       "0.8851428571428571"
      ]
     },
     "execution_count": 189,
     "metadata": {},
     "output_type": "execute_result"
    }
   ],
   "source": [
    "\"\"\"\n",
    "text_clf_final = Pipeline([\n",
    "            ('tfidfvect', TfidfVectorizer(stop_words='english')),\n",
    "            ('clf', BernoulliNB()) \n",
    "            ])\n",
    "\"\"\"\n",
    "\n",
    "text_clf.fit(train_text_final,train_target_final['combined'])\n",
    "text_clf.score(test_text, test_target)\n"
   ]
  },
  {
   "cell_type": "code",
   "execution_count": 190,
   "metadata": {},
   "outputs": [
    {
     "data": {
      "text/plain": [
       "0.8891428571428571"
      ]
     },
     "execution_count": 190,
     "metadata": {},
     "output_type": "execute_result"
    }
   ],
   "source": [
    "text_clf_final = Pipeline([\n",
    "            ('tfidfvect', TfidfVectorizer(stop_words='english')),\n",
    "            ('clf', BernoulliNB()) \n",
    "            ])\n",
    "\n",
    "text_clf.fit(train_text_final,train_target_final['best'])\n",
    "text_clf.score(test_text, test_target)"
   ]
  }
 ],
 "metadata": {
  "kernelspec": {
   "display_name": "base",
   "language": "python",
   "name": "python3"
  },
  "language_info": {
   "codemirror_mode": {
    "name": "ipython",
    "version": 3
   },
   "file_extension": ".py",
   "mimetype": "text/x-python",
   "name": "python",
   "nbconvert_exporter": "python",
   "pygments_lexer": "ipython3",
   "version": "3.9.13"
  },
  "orig_nbformat": 4
 },
 "nbformat": 4,
 "nbformat_minor": 2
}
