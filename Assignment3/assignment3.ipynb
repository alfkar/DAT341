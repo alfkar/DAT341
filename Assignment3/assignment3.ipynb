{
 "cells": [
  {
   "cell_type": "code",
   "execution_count": 7,
   "metadata": {},
   "outputs": [],
   "source": [
    "import pandas as pd\n",
    "from sklearn.feature_extraction.text import TfidfVectorizer\n",
    "from sklearn.pipeline import Pipeline"
   ]
  },
  {
   "cell_type": "code",
   "execution_count": 21,
   "metadata": {},
   "outputs": [
    {
     "name": "stdout",
     "output_type": "stream",
     "text": [
      "\n",
      "TD-IDF Vectorizer\n",
      "\n",
      "             00  000  00pm   01   02        03   05   08  0_0  0rdered  ...  \\\n",
      "0      0.000000  0.0   0.0  0.0  0.0  0.000000  0.0  0.0  0.0      0.0  ...   \n",
      "1      0.130893  0.0   0.0  0.0  0.0  0.183558  0.0  0.0  0.0      0.0  ...   \n",
      "2      0.000000  0.0   0.0  0.0  0.0  0.000000  0.0  0.0  0.0      0.0  ...   \n",
      "3      0.000000  0.0   0.0  0.0  0.0  0.000000  0.0  0.0  0.0      0.0  ...   \n",
      "4      0.000000  0.0   0.0  0.0  0.0  0.000000  0.0  0.0  0.0      0.0  ...   \n",
      "...         ...  ...   ...  ...  ...       ...  ...  ...  ...      ...  ...   \n",
      "14030  0.000000  0.0   0.0  0.0  0.0  0.000000  0.0  0.0  0.0      0.0  ...   \n",
      "14031  0.000000  0.0   0.0  0.0  0.0  0.000000  0.0  0.0  0.0      0.0  ...   \n",
      "14032  0.000000  0.0   0.0  0.0  0.0  0.000000  0.0  0.0  0.0      0.0  ...   \n",
      "14033  0.000000  0.0   0.0  0.0  0.0  0.000000  0.0  0.0  0.0      0.0  ...   \n",
      "14034  0.000000  0.0   0.0  0.0  0.0  0.000000  0.0  0.0  0.0      0.0  ...   \n",
      "\n",
      "       zone  zoo  zucchini  zylaty  ápices  årstiderna  östra  œcowvinâ  \\\n",
      "0       0.0  0.0       0.0     0.0     0.0         0.0    0.0       0.0   \n",
      "1       0.0  0.0       0.0     0.0     0.0         0.0    0.0       0.0   \n",
      "2       0.0  0.0       0.0     0.0     0.0         0.0    0.0       0.0   \n",
      "3       0.0  0.0       0.0     0.0     0.0         0.0    0.0       0.0   \n",
      "4       0.0  0.0       0.0     0.0     0.0         0.0    0.0       0.0   \n",
      "...     ...  ...       ...     ...     ...         ...    ...       ...   \n",
      "14030   0.0  0.0       0.0     0.0     0.0         0.0    0.0       0.0   \n",
      "14031   0.0  0.0       0.0     0.0     0.0         0.0    0.0       0.0   \n",
      "14032   0.0  0.0       0.0     0.0     0.0         0.0    0.0       0.0   \n",
      "14033   0.0  0.0       0.0     0.0     0.0         0.0    0.0       0.0   \n",
      "14034   0.0  0.0       0.0     0.0     0.0         0.0    0.0       0.0   \n",
      "\n",
      "       żurek  拢50  \n",
      "0        0.0  0.0  \n",
      "1        0.0  0.0  \n",
      "2        0.0  0.0  \n",
      "3        0.0  0.0  \n",
      "4        0.0  0.0  \n",
      "...      ...  ...  \n",
      "14030    0.0  0.0  \n",
      "14031    0.0  0.0  \n",
      "14032    0.0  0.0  \n",
      "14033    0.0  0.0  \n",
      "14034    0.0  0.0  \n",
      "\n",
      "[14035 rows x 11444 columns]\n"
     ]
    },
    {
     "name": "stderr",
     "output_type": "stream",
     "text": [
      "/home/alfkar/anaconda3/lib/python3.9/site-packages/sklearn/utils/deprecation.py:87: FutureWarning: Function get_feature_names is deprecated; get_feature_names is deprecated in 1.0 and will be removed in 1.2. Please use get_feature_names_out instead.\n",
      "  warnings.warn(msg, category=FutureWarning)\n"
     ]
    }
   ],
   "source": [
    "#Read data\n",
    "test_data = pd.read_csv(\"PA3_test.csv\")\n",
    "train_data = pd.read_csv(\"PA3_train.csv\")\n",
    "train_final_data = pd.read_csv(\"PA3_train_final.csv\")\n",
    "\n",
    "text_clf = Pipeline([\n",
    "            ('tfidfvect' = TfidfVectorizer()),\n",
    "            ('clf', MultinomialNB()) \n",
    "            ])\n",
    "\n",
    "#Extracting only the text from the train_data\n",
    "train_text = train_data.iloc[:, 1]\n",
    "train_target = train_data.iloc[:,0]\n",
    "\n",
    "\n",
    "\n",
    "print(\"\\nTD-IDF Vectorizer\\n\")\n",
    "print(df_tfidfvect)\n"
   ]
  }
 ],
 "metadata": {
  "kernelspec": {
   "display_name": "base",
   "language": "python",
   "name": "python3"
  },
  "language_info": {
   "codemirror_mode": {
    "name": "ipython",
    "version": 3
   },
   "file_extension": ".py",
   "mimetype": "text/x-python",
   "name": "python",
   "nbconvert_exporter": "python",
   "pygments_lexer": "ipython3",
   "version": "3.9.13"
  },
  "orig_nbformat": 4
 },
 "nbformat": 4,
 "nbformat_minor": 2
}
