{
 "cells": [
  {
   "attachments": {},
   "cell_type": "markdown",
   "metadata": {},
   "source": [
    "# PA4: Implementing linear classifiers\n",
    "\n",
    "Participants: Arvid Nyberg and Alfred Karlsson"
   ]
  },
  {
   "attachments": {},
   "cell_type": "markdown",
   "metadata": {},
   "source": [
    "## Exercise question\n",
    "\n",
    "The second training set can be visualized as:\n",
    "\n",
    "              July   December  \n",
    "       Sydney rain   sun  \n",
    "       Paris  sun    rain\n",
    "\n",
    "There is no way to draw a straight line that separates the two categories, which means they are linearly inseparable.\n",
    "Since both the Perceptron and LinearSVC are linear classifiers they fail to \"memorize2 the training set."
   ]
  }
 ],
 "metadata": {
  "language_info": {
   "name": "python"
  },
  "orig_nbformat": 4
 },
 "nbformat": 4,
 "nbformat_minor": 2
}
